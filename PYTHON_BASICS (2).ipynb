{
  "nbformat": 4,
  "nbformat_minor": 0,
  "metadata": {
    "colab": {
      "provenance": []
    },
    "kernelspec": {
      "name": "python3",
      "display_name": "Python 3"
    },
    "language_info": {
      "name": "python"
    }
  },
  "cells": [
    {
      "cell_type": "code",
      "execution_count": null,
      "metadata": {
        "id": "3NnppAuQHoJi"
      },
      "outputs": [],
      "source": []
    },
    {
      "cell_type": "markdown",
      "source": [
        "# PYTHON BASICS"
      ],
      "metadata": {
        "id": "5JXOEWhfIxNm"
      }
    },
    {
      "cell_type": "markdown",
      "source": [
        "1. What is Python, and why is it popular?\n",
        "  - python is a programming language which has set of rules and symbols that defines the process of writing computer programme\n",
        "  - it is a formal language for creating instructions for a computer to follow\n",
        "\n",
        "  It is so popular because\n",
        "  - Python's syntax is simple and clear, using English keywords instead of punctuation\n",
        "  - Python can be used for a wide range of applications, including web development, data analysis, machine learning, and artificial intelligence\n",
        "  - Python is open source, meaning it's freely available and supported by a large community of developers\n",
        "  - Python is portable and can run on different platforms and operating systems\n",
        "  - It has lot of libraries to perform\n",
        "   - Python's active community provides documentation, guides, and tutorials\n",
        "   - Python is extendable, allowing users to add low-level modules to customize and optimize their tools\n"
      ],
      "metadata": {
        "id": "cRvQ2gcNI4iz"
      }
    },
    {
      "cell_type": "markdown",
      "source": [
        "2. What is an interpreter in Python?\n",
        " - A python interpreter is a computer program that converts each high-level program statement into machine code.\n",
        " - The interpreter reads the source code, which is written in a text file\n",
        " - It parses the code and translates it into bytecode, which is an instruction set\n",
        " - If the code has errors, the interpreter stops and displays an error message\n",
        "\n"
      ],
      "metadata": {
        "id": "aURRVN7aaSds"
      }
    },
    {
      "cell_type": "markdown",
      "source": [
        "3.What are pre-defined keywords in Python?\n",
        "  - A keyword refers to a predefined word that python reserves for working programs that have a specific meaning,\n",
        "  - You can't use a keyword anywhere else.\n",
        "  -Python Identifiers are the different values that a programmer can use to define various variables, integers, functions, and classes.\n",
        "\n",
        "  Example of python keywords - True, False, else, import, finally, is, and global\n",
        "  exmple of python identifiers -  testing, sq4 sides, area_square, etc.  \n",
        "\n"
      ],
      "metadata": {
        "id": "qX00rt11avUW"
      }
    },
    {
      "cell_type": "markdown",
      "source": [
        "4. Can keywords be used as variable names?\n",
        "  - No, we cannot use Python keywords as variable names\n",
        "  - Keywords define the language's syntax rules and structure, and they cannot be used as variable names.\n"
      ],
      "metadata": {
        "id": "FOozICFmaRgQ"
      }
    },
    {
      "cell_type": "markdown",
      "source": [
        "5. What is mutability in Python?\n",
        "   - In Python, mutability refers to the ability of an object to change after it has been created\n",
        "   - A mutable object's state or contents can be modified without creating a new object. Any operation that modifies a mutable object will modify the original object itself\n",
        "   Examples: Lists and dictionaries are mutable objects in Python.\n",
        " - Simple objects like numbers, strings, bools, and tuples are immutable\n"
      ],
      "metadata": {
        "id": "MSJQn7bTgIUV"
      }
    },
    {
      "cell_type": "markdown",
      "source": [
        "6. Why are lists mutable, but tuples are immutable?\n",
        "   - Lists - Lists are among Python's most flexible and powerful containers. They are similar to arrays in other languages, such as Java.\n",
        "\n",
        " - Lists help store multiple items and then iterate over them using a loop. Because lists are dynamic, you can easily add or remove items anytime.\n",
        "\n",
        " - Tuples - Tuples are also a sequence data type containing elements of different data types.\n",
        "\n",
        " - It comes in handy when storing a collection of items, especially if you want them to remain the same.\n",
        "\n",
        " - As tuples are immutable, they are faster than the list because they are static.\n",
        "\n",
        " - Lists are surrounded by square brackets [ ], while tuples are surrounded by round brackets ( ).\n",
        "\n"
      ],
      "metadata": {
        "id": "MSeprrwwh16X"
      }
    },
    {
      "cell_type": "code",
      "source": [
        "list_num=[1,2,3,4,5]\n",
        "\n",
        "tuple_numbers  = (1,2,3,4,5)\n",
        "\n"
      ],
      "metadata": {
        "id": "FulxpkQXkXYH"
      },
      "execution_count": null,
      "outputs": []
    },
    {
      "cell_type": "markdown",
      "source": [
        "- The primary difference between tuples and lists is that tuples are immutable instead of mutable lists. Therefore, it is possible to change a list but not a tuple.\n",
        "\n",
        " - Due to tuples' immutability, the contents of a tuple cannot change once it has been created in Python.There is no way to keep changing tuples\n",
        "  - It simply means that you can change the existing values in a list. But you cannot change the same value if stored in the tuple.\n",
        "\n"
      ],
      "metadata": {
        "id": "GpTM-mUGlNnM"
      }
    },
    {
      "cell_type": "markdown",
      "source": [
        "7. What is the difference between “==” and “is” operators in Python?\n",
        "   - In Python, the == operator compares the values of two objects, while the is operator compares if two objects are identical.\n",
        "\n",
        " - == operator\n",
        "Compares the values of two objects. This operator is used to check if the content or data of two objects are equal.\n",
        " - is operator\n",
        "Compares the identity of two objects. This operator is used to check if two variables point to the same object in memory.\n",
        "\n",
        "Example\n",
        "\n",
        " - If list1 and list2 reference the same list object, then list1 is list2 will return True.\n",
        " - If list1 and list3 are different objects with the same content, then list1 is list3 will return False."
      ],
      "metadata": {
        "id": "U8eVcJevlwiV"
      }
    },
    {
      "cell_type": "markdown",
      "source": [
        "8. What are logical operators in Python?\n",
        "   - Logical operators in Python are keywords that evaluate conditions in a program to return a Boolean value. They are used in conditional statements and expressions to create complex decision-making processes.\n",
        " - Types of logical operators\n",
        " -> And: Returns True if both operands are true\n",
        " -> Or: Returns True if either operand is true\n",
        " -> Not: Reverses the result of an operand, so if it's true, it becomes false, and vice versa\n"
      ],
      "metadata": {
        "id": "jeL7FCzPoojF"
      }
    },
    {
      "cell_type": "markdown",
      "source": [
        "9. What is type casting in Python?\n",
        "\n",
        "    - Type Casting\n",
        "\n",
        " -> Type casting, also referred to as type conversion, is the process of changing one data type to another in Python.\n",
        "\n",
        " -> Python provides built-in functions for type casting, such as int(), float(), str(), list(), tuple(), dict(), etc.\n",
        "\n",
        " -> Type casting is often necessary for performing arithmetic operations, data manipulation, and input/output operations in Python programs"
      ],
      "metadata": {
        "id": "cnNhGDDcrUh1"
      }
    },
    {
      "cell_type": "markdown",
      "source": [
        "10. What is the difference between implicit and explicit type casting?\n",
        "     - In Python, implicit type casting is when Python automatically converts a data type, while explicit type casting is when a programmer manually converts a data type.\n",
        " - Implicit type casting\n",
        " -> The Python interpreter automatically converts data types\n",
        " -> This happens without any code notation or the programmer's involvement\n",
        " -> It's often used to convert smaller data types to larger data types\n",
        " -> It helps prevent data loss and errors\n",
        " - Explicit type casting\n",
        " -> The programmer manually converts data types using predefined Python functions\n",
        " -> This is visible in the source code\n",
        " -> It gives the programmer more control over the data conversion process\n",
        " -> It helps prevent unintended data loss or errors\n",
        "\n"
      ],
      "metadata": {
        "id": "28Q69-SNtYVu"
      }
    },
    {
      "cell_type": "markdown",
      "source": [
        "11. What is the purpose of conditional statements in Python?\n",
        "     - The purpose of conditional statements in Python is to control the flow of a program by making decisions based on certain conditions.\n",
        "     - A conditional statement as the name suggests itself, is used to handle conditions in your program. These statements guide the program while making decisions based on the conditions encountered by the program\n",
        "\n",
        "     Example -\n",
        "     -> If: Executes a block of code if a condition is true\n",
        "     -> Else: Executes a different block of code if the if condition is false\n",
        "     -> Elif: Checks multiple conditions in sequence and executes different code blocks depending on which condition is true"
      ],
      "metadata": {
        "id": "alX1WAMjvQlJ"
      }
    },
    {
      "cell_type": "code",
      "source": [],
      "metadata": {
        "id": "02viD_Z5ySIz"
      },
      "execution_count": null,
      "outputs": []
    },
    {
      "cell_type": "markdown",
      "source": [
        "12. How does the elif statement work?\n",
        "    - The “elif” keyword in Python, stands for “else if”. It can be used in conditional statements to check for multiple conditions.\n",
        "    -  For example, if the first condition is false, it moves on to the next “elif” statement to check if that condition is true.\n"
      ],
      "metadata": {
        "id": "xjVq4ikryaue"
      }
    },
    {
      "cell_type": "code",
      "source": [],
      "metadata": {
        "id": "hJfwTfFN9et5"
      },
      "execution_count": null,
      "outputs": []
    },
    {
      "cell_type": "markdown",
      "source": [
        "13. What is the difference between for and while loops?\n",
        "    - For Loop\n",
        " -> When there is a need of iteration over elements that are in sequence like lists, tuples, strings or dictionaries.\n",
        " -> Use for loops when a known number or a finite number of iteration is required.\n",
        " -> Another situation when you want that each element of a sequence should pass through iteration one by one.\n",
        " -> for loops can also be used when a task requires a sequential access of elements of a sequence.\n",
        " - While Loop\n",
        " -> When there is a need to repeat execution of a block of code until a specified condition becomes False.\n",
        " -> Use while loops when the number of iteration is not determined.\n",
        " -> while loops are can be used when there is a need to repeat execution based on a condition.\n",
        " -> When dynamic adaptation is required based upon condition that may change."
      ],
      "metadata": {
        "id": "-8oHTWn_4OnI"
      }
    },
    {
      "cell_type": "code",
      "source": [
        "# 1. Write a Python program to print \"Hello, World!?\n",
        "\n",
        "print('Hello, world!')\n"
      ],
      "metadata": {
        "colab": {
          "base_uri": "https://localhost:8080/"
        },
        "id": "22NOaaWq49iX",
        "outputId": "bfa0dea2-f570-4395-bcdb-82ac15a99cbe"
      },
      "execution_count": null,
      "outputs": [
        {
          "output_type": "stream",
          "name": "stdout",
          "text": [
            "Hello, world!\n"
          ]
        }
      ]
    },
    {
      "cell_type": "code",
      "source": [
        "from ast import Name\n",
        "# 2. Write a Python program that displays your name and age\n",
        "\n",
        "age:input('25')\n",
        "Name=input('john')\n",
        "print(age)\n",
        "print(Name)"
      ],
      "metadata": {
        "colab": {
          "base_uri": "https://localhost:8080/",
          "height": 356
        },
        "id": "pTsWIQW20JBT",
        "outputId": "35e53b67-af27-4360-e367-a6753586a332"
      },
      "execution_count": 21,
      "outputs": [
        {
          "output_type": "error",
          "ename": "KeyboardInterrupt",
          "evalue": "Interrupted by user",
          "traceback": [
            "\u001b[0;31m---------------------------------------------------------------------------\u001b[0m",
            "\u001b[0;31mKeyboardInterrupt\u001b[0m                         Traceback (most recent call last)",
            "\u001b[0;32m<ipython-input-21-e62baece4c1e>\u001b[0m in \u001b[0;36m<cell line: 0>\u001b[0;34m()\u001b[0m\n\u001b[1;32m      2\u001b[0m \u001b[0;31m# 2. Write a Python program that displays your name and age\u001b[0m\u001b[0;34m\u001b[0m\u001b[0;34m\u001b[0m\u001b[0m\n\u001b[1;32m      3\u001b[0m \u001b[0;34m\u001b[0m\u001b[0m\n\u001b[0;32m----> 4\u001b[0;31m \u001b[0mage\u001b[0m\u001b[0;34m:\u001b[0m\u001b[0minput\u001b[0m\u001b[0;34m(\u001b[0m\u001b[0;34m'25'\u001b[0m\u001b[0;34m)\u001b[0m\u001b[0;34m\u001b[0m\u001b[0;34m\u001b[0m\u001b[0m\n\u001b[0m\u001b[1;32m      5\u001b[0m \u001b[0mName\u001b[0m\u001b[0;34m=\u001b[0m\u001b[0minput\u001b[0m\u001b[0;34m(\u001b[0m\u001b[0;34m'john'\u001b[0m\u001b[0;34m)\u001b[0m\u001b[0;34m\u001b[0m\u001b[0;34m\u001b[0m\u001b[0m\n\u001b[1;32m      6\u001b[0m \u001b[0mprint\u001b[0m\u001b[0;34m(\u001b[0m\u001b[0mage\u001b[0m\u001b[0;34m)\u001b[0m\u001b[0;34m\u001b[0m\u001b[0;34m\u001b[0m\u001b[0m\n",
            "\u001b[0;32m/usr/local/lib/python3.11/dist-packages/ipykernel/kernelbase.py\u001b[0m in \u001b[0;36mraw_input\u001b[0;34m(self, prompt)\u001b[0m\n\u001b[1;32m    849\u001b[0m                 \u001b[0;34m\"raw_input was called, but this frontend does not support input requests.\"\u001b[0m\u001b[0;34m\u001b[0m\u001b[0;34m\u001b[0m\u001b[0m\n\u001b[1;32m    850\u001b[0m             )\n\u001b[0;32m--> 851\u001b[0;31m         return self._input_request(str(prompt),\n\u001b[0m\u001b[1;32m    852\u001b[0m             \u001b[0mself\u001b[0m\u001b[0;34m.\u001b[0m\u001b[0m_parent_ident\u001b[0m\u001b[0;34m,\u001b[0m\u001b[0;34m\u001b[0m\u001b[0;34m\u001b[0m\u001b[0m\n\u001b[1;32m    853\u001b[0m             \u001b[0mself\u001b[0m\u001b[0;34m.\u001b[0m\u001b[0m_parent_header\u001b[0m\u001b[0;34m,\u001b[0m\u001b[0;34m\u001b[0m\u001b[0;34m\u001b[0m\u001b[0m\n",
            "\u001b[0;32m/usr/local/lib/python3.11/dist-packages/ipykernel/kernelbase.py\u001b[0m in \u001b[0;36m_input_request\u001b[0;34m(self, prompt, ident, parent, password)\u001b[0m\n\u001b[1;32m    893\u001b[0m             \u001b[0;32mexcept\u001b[0m \u001b[0mKeyboardInterrupt\u001b[0m\u001b[0;34m:\u001b[0m\u001b[0;34m\u001b[0m\u001b[0;34m\u001b[0m\u001b[0m\n\u001b[1;32m    894\u001b[0m                 \u001b[0;31m# re-raise KeyboardInterrupt, to truncate traceback\u001b[0m\u001b[0;34m\u001b[0m\u001b[0;34m\u001b[0m\u001b[0m\n\u001b[0;32m--> 895\u001b[0;31m                 \u001b[0;32mraise\u001b[0m \u001b[0mKeyboardInterrupt\u001b[0m\u001b[0;34m(\u001b[0m\u001b[0;34m\"Interrupted by user\"\u001b[0m\u001b[0;34m)\u001b[0m \u001b[0;32mfrom\u001b[0m \u001b[0;32mNone\u001b[0m\u001b[0;34m\u001b[0m\u001b[0;34m\u001b[0m\u001b[0m\n\u001b[0m\u001b[1;32m    896\u001b[0m             \u001b[0;32mexcept\u001b[0m \u001b[0mException\u001b[0m \u001b[0;32mas\u001b[0m \u001b[0me\u001b[0m\u001b[0;34m:\u001b[0m\u001b[0;34m\u001b[0m\u001b[0;34m\u001b[0m\u001b[0m\n\u001b[1;32m    897\u001b[0m                 \u001b[0mself\u001b[0m\u001b[0;34m.\u001b[0m\u001b[0mlog\u001b[0m\u001b[0;34m.\u001b[0m\u001b[0mwarning\u001b[0m\u001b[0;34m(\u001b[0m\u001b[0;34m\"Invalid Message:\"\u001b[0m\u001b[0;34m,\u001b[0m \u001b[0mexc_info\u001b[0m\u001b[0;34m=\u001b[0m\u001b[0;32mTrue\u001b[0m\u001b[0;34m)\u001b[0m\u001b[0;34m\u001b[0m\u001b[0;34m\u001b[0m\u001b[0m\n",
            "\u001b[0;31mKeyboardInterrupt\u001b[0m: Interrupted by user"
          ]
        }
      ]
    },
    {
      "cell_type": "code",
      "source": [
        "# 3. Write code to print all the pre-defined keywords in Python using the keyword library0\n",
        "\n",
        "import keyword\n",
        "print(keyword.kwlist)"
      ],
      "metadata": {
        "colab": {
          "base_uri": "https://localhost:8080/"
        },
        "id": "-d9Q0bph47EA",
        "outputId": "c4025b78-fe01-4165-d4e8-4a05cec86db1"
      },
      "execution_count": 14,
      "outputs": [
        {
          "output_type": "stream",
          "name": "stdout",
          "text": [
            "['False', 'None', 'True', 'and', 'as', 'assert', 'async', 'await', 'break', 'class', 'continue', 'def', 'del', 'elif', 'else', 'except', 'finally', 'for', 'from', 'global', 'if', 'import', 'in', 'is', 'lambda', 'nonlocal', 'not', 'or', 'pass', 'raise', 'return', 'try', 'while', 'with', 'yield']\n"
          ]
        }
      ]
    },
    {
      "cell_type": "code",
      "source": [
        "# 5. Create a list and tuple in Python, and demonstrate how attempting to change an element works differently for each\n",
        "\n",
        "names = (\"Raj\",\"John\",\"Jabby\",\"Raja\")\n",
        "names[2] = \"Kelly\"\n",
        "# Traceback (most recent call last):\n",
        "\n"
      ],
      "metadata": {
        "colab": {
          "base_uri": "https://localhost:8080/",
          "height": 211
        },
        "id": "1GXBDfRZBQBb",
        "outputId": "4fffe092-2f95-40d6-d53a-551d99d8b93b"
      },
      "execution_count": 40,
      "outputs": [
        {
          "output_type": "error",
          "ename": "TypeError",
          "evalue": "'tuple' object does not support item assignment",
          "traceback": [
            "\u001b[0;31m---------------------------------------------------------------------------\u001b[0m",
            "\u001b[0;31mTypeError\u001b[0m                                 Traceback (most recent call last)",
            "\u001b[0;32m<ipython-input-40-802002ff9d90>\u001b[0m in \u001b[0;36m<cell line: 0>\u001b[0;34m()\u001b[0m\n\u001b[1;32m      2\u001b[0m \u001b[0;34m\u001b[0m\u001b[0m\n\u001b[1;32m      3\u001b[0m \u001b[0mnames\u001b[0m \u001b[0;34m=\u001b[0m \u001b[0;34m(\u001b[0m\u001b[0;34m\"Raj\"\u001b[0m\u001b[0;34m,\u001b[0m\u001b[0;34m\"John\"\u001b[0m\u001b[0;34m,\u001b[0m\u001b[0;34m\"Jabby\"\u001b[0m\u001b[0;34m,\u001b[0m\u001b[0;34m\"Raja\"\u001b[0m\u001b[0;34m)\u001b[0m\u001b[0;34m\u001b[0m\u001b[0;34m\u001b[0m\u001b[0m\n\u001b[0;32m----> 4\u001b[0;31m \u001b[0mnames\u001b[0m\u001b[0;34m[\u001b[0m\u001b[0;36m2\u001b[0m\u001b[0;34m]\u001b[0m \u001b[0;34m=\u001b[0m \u001b[0;34m\"Kelly\"\u001b[0m\u001b[0;34m\u001b[0m\u001b[0;34m\u001b[0m\u001b[0m\n\u001b[0m\u001b[1;32m      5\u001b[0m \u001b[0;31m# Traceback (most recent call last):\u001b[0m\u001b[0;34m\u001b[0m\u001b[0;34m\u001b[0m\u001b[0m\n\u001b[1;32m      6\u001b[0m \u001b[0;34m\u001b[0m\u001b[0m\n",
            "\u001b[0;31mTypeError\u001b[0m: 'tuple' object does not support item assignment"
          ]
        }
      ]
    },
    {
      "cell_type": "code",
      "source": [
        "# 6. Write a function to demonstrate the behavior of mutable and immutable arguments\n",
        "\n",
        "list_numbers  = [1,2,3,4,5]\n",
        "\n",
        "print(list_numbers)\n",
        "\n",
        "tuple_numbers  = (1,2,3,4,5)\n",
        "\n",
        "print(tuple_numbers)\n"
      ],
      "metadata": {
        "colab": {
          "base_uri": "https://localhost:8080/"
        },
        "id": "FsLOLN0Z8In6",
        "outputId": "0e97414c-3ff1-4cc0-a1f2-c694aa6ef5dd"
      },
      "execution_count": 25,
      "outputs": [
        {
          "output_type": "stream",
          "name": "stdout",
          "text": [
            "[1, 2, 3, 4, 5]\n",
            "(1, 2, 3, 4, 5)\n"
          ]
        }
      ]
    },
    {
      "cell_type": "code",
      "source": [
        "list_num=[1,2,3,4,5]\n",
        "\n",
        "# Let’s replace 3 with 5.\n",
        "\n",
        "list_num[2] = 5\n",
        "\n",
        "print(list_num)\n",
        "\n",
        "[1,2,5,4,5]"
      ],
      "metadata": {
        "colab": {
          "base_uri": "https://localhost:8080/"
        },
        "id": "-GgFaGg5_Jli",
        "outputId": "80d82d46-388f-4fc2-e82a-33a69c5774e7"
      },
      "execution_count": 29,
      "outputs": [
        {
          "output_type": "stream",
          "name": "stdout",
          "text": [
            "[1, 2, 5, 4, 5]\n"
          ]
        },
        {
          "output_type": "execute_result",
          "data": {
            "text/plain": [
              "[1, 2, 5, 4, 5]"
            ]
          },
          "metadata": {},
          "execution_count": 29
        }
      ]
    },
    {
      "cell_type": "code",
      "source": [
        "tuple_num=(1,2,3,4,5)\n",
        "\n",
        "#Let’s replace 3 with 5.\n",
        "\n",
        "tup_num:[2] = 7\n",
        "\n",
        "# It will have the following error:\n",
        "\n",
        "[1,2,7,4,5]\n",
        "\n"
      ],
      "metadata": {
        "colab": {
          "base_uri": "https://localhost:8080/"
        },
        "id": "9fWiHDeq_3r1",
        "outputId": "3089b935-0330-4c46-9a5d-244ef1bbb432"
      },
      "execution_count": 36,
      "outputs": [
        {
          "output_type": "execute_result",
          "data": {
            "text/plain": [
              "[1, 2, 7, 4, 5]"
            ]
          },
          "metadata": {},
          "execution_count": 36
        }
      ]
    },
    {
      "cell_type": "code",
      "source": [
        "# 7. Write a function to demonstrate the behavior of mutable and immutable argument\n",
        "\n",
        "list_num=[1,2,3,4,5]\n",
        "\n",
        "#Let’s replace 3 with 5.\n",
        "\n",
        "list_num[2] = 5\n",
        "\n",
        "print(list_num)\n",
        "\n",
        "[1,2,5,4,5]\n",
        "\n",
        "tuple_num=(1,2,3,4,5)\n",
        "\n",
        "# Let’s replace 3 with 5.\n",
        "\n",
        "tup_num:[2] = 7\n",
        "\n",
        "# It will have the following error:\n",
        "\n",
        "[1,2,7,4,5]\n",
        "\n"
      ],
      "metadata": {
        "colab": {
          "base_uri": "https://localhost:8080/"
        },
        "id": "t0Zl4mXKA9yV",
        "outputId": "3585d404-b6ee-458e-e52b-2553c845062e"
      },
      "execution_count": 44,
      "outputs": [
        {
          "output_type": "stream",
          "name": "stdout",
          "text": [
            "[1, 2, 5, 4, 5]\n"
          ]
        },
        {
          "output_type": "execute_result",
          "data": {
            "text/plain": [
              "[1, 2, 7, 4, 5]"
            ]
          },
          "metadata": {},
          "execution_count": 44
        }
      ]
    },
    {
      "cell_type": "code",
      "source": [
        "# 8. Write a program to demonstrate the use of logical operators\n",
        "\n",
        "# Example: Logical Operators (AND, OR, NOT) with generic variables\n",
        "a, b, c = True, False, True\n",
        "\n",
        "# AND: Both conditions must be True\n",
        "if a and c:\n",
        "    print(\"Both a and c are True (AND condition).\")\n",
        "\n",
        "# OR: At least one condition must be True\n",
        "if b or c:\n",
        "    print(\"Either b or c is True (OR condition).\")\n",
        "\n",
        "# NOT: Reverses the condition\n",
        "if not b:\n",
        "    print(\"b is False (NOT condition).\")"
      ],
      "metadata": {
        "colab": {
          "base_uri": "https://localhost:8080/"
        },
        "id": "EXR5uAMiDSXr",
        "outputId": "485cc8db-24d4-4ec0-8e12-1966840e2ed7"
      },
      "execution_count": 46,
      "outputs": [
        {
          "output_type": "stream",
          "name": "stdout",
          "text": [
            "Both a and c are True (AND condition).\n",
            "Either b or c is True (OR condition).\n",
            "b is False (NOT condition).\n"
          ]
        }
      ]
    },
    {
      "cell_type": "code",
      "source": [
        "# 9. Write a Python program to convert user input from string to integer, float, and boolean types\n",
        "\n",
        "s = \"42\"\n",
        "num = int(s)\n",
        "print(num)"
      ],
      "metadata": {
        "colab": {
          "base_uri": "https://localhost:8080/"
        },
        "id": "_axiQZV9D9eZ",
        "outputId": "099c12f2-acad-4378-fe84-1fab905c7811"
      },
      "execution_count": 48,
      "outputs": [
        {
          "output_type": "stream",
          "name": "stdout",
          "text": [
            "42\n"
          ]
        }
      ]
    },
    {
      "cell_type": "code",
      "source": [
        "string = \"33.28\"\n",
        "\n",
        "num = float(string)\n",
        "\n",
        "print(num)\n",
        "print(type(num))"
      ],
      "metadata": {
        "colab": {
          "base_uri": "https://localhost:8080/"
        },
        "id": "zrkk7wPyEXaz",
        "outputId": "8fe93011-405d-422d-f24a-5387a183d418"
      },
      "execution_count": 50,
      "outputs": [
        {
          "output_type": "stream",
          "name": "stdout",
          "text": [
            "33.28\n",
            "<class 'float'>\n"
          ]
        }
      ]
    },
    {
      "cell_type": "code",
      "source": [
        "s = \"True\"\n",
        "boolean_value = eval(s)\n",
        "\n",
        "print(boolean_value)"
      ],
      "metadata": {
        "colab": {
          "base_uri": "https://localhost:8080/"
        },
        "id": "JdJHb_wUEqb2",
        "outputId": "b81f029c-6c29-4493-816d-1a5e7526f81c"
      },
      "execution_count": 52,
      "outputs": [
        {
          "output_type": "stream",
          "name": "stdout",
          "text": [
            "True\n"
          ]
        }
      ]
    },
    {
      "cell_type": "code",
      "source": [
        "# 10. Write code to demonstrate type casting with list elements\n",
        "\n",
        "def cast_list(test_list, data_type):\n",
        "\treturn list(map(data_type, test_list))\n",
        "\n",
        "test_list = [1, 4, 9, 10, 19]\n",
        "\n",
        "print(\"The original list is : \" + str(test_list))\n",
        "\n",
        "res_list = cast_list(test_list, str)\n",
        "\n",
        "print(\"The List after type casting is : \" + str(res_list))\n"
      ],
      "metadata": {
        "colab": {
          "base_uri": "https://localhost:8080/"
        },
        "id": "uRSDapVJFEux",
        "outputId": "95422f64-0282-4adb-a714-cc83a97c0026"
      },
      "execution_count": 54,
      "outputs": [
        {
          "output_type": "stream",
          "name": "stdout",
          "text": [
            "The original list is : [1, 4, 9, 10, 19]\n",
            "The List after type casting is : ['1', '4', '9', '10', '19']\n"
          ]
        }
      ]
    },
    {
      "cell_type": "code",
      "source": [
        "# 11. Write a program that checks if a number is positive, negative, or zero\n",
        "\n",
        "def check(n):\n",
        "\n",
        "\tif n > 0:\n",
        "\t\tprint(\"Positive\")\n",
        "\n",
        "\telif n < 0:\n",
        "\t\tprint(\"Negative\")\n",
        "\n",
        "\t# zero\n",
        "\telse:\n",
        "\t\tprint(\"Equal to zero\")\n",
        "\n",
        "check(5)\n",
        "check(0)\n",
        "check(-5)\n"
      ],
      "metadata": {
        "colab": {
          "base_uri": "https://localhost:8080/"
        },
        "id": "-HuvraqvH9rR",
        "outputId": "f298b8c1-d848-4f07-baaa-b7548d810503"
      },
      "execution_count": 59,
      "outputs": [
        {
          "output_type": "stream",
          "name": "stdout",
          "text": [
            "Positive\n",
            "Equal to zero\n",
            "Negative\n"
          ]
        }
      ]
    },
    {
      "cell_type": "code",
      "source": [
        "# 12. Write a for loop to print numbers from 1 to 10\n",
        "\n",
        "for i in range(1,11):\n",
        "  print(i)"
      ],
      "metadata": {
        "colab": {
          "base_uri": "https://localhost:8080/"
        },
        "id": "5hg-O9oyISii",
        "outputId": "47ed81ff-0fa4-4e80-9552-113ab5f96244"
      },
      "execution_count": 61,
      "outputs": [
        {
          "output_type": "stream",
          "name": "stdout",
          "text": [
            "1\n",
            "2\n",
            "3\n",
            "4\n",
            "5\n",
            "6\n",
            "7\n",
            "8\n",
            "9\n",
            "10\n"
          ]
        }
      ]
    },
    {
      "cell_type": "code",
      "source": [
        "# 13. Write a Python program to find the sum of all even numbers between 1 and 50\n",
        "\n",
        "sum = 0\n",
        "for i in range(1,50):\n",
        "  if i % 2 ==0:\n",
        "    sum = sum + i\n",
        "    print(sum)\n"
      ],
      "metadata": {
        "colab": {
          "base_uri": "https://localhost:8080/"
        },
        "id": "MJG0nAQKIsHj",
        "outputId": "92fbcbc9-8368-4eb6-e017-357de0fe8255"
      },
      "execution_count": 65,
      "outputs": [
        {
          "output_type": "stream",
          "name": "stdout",
          "text": [
            "2\n",
            "6\n",
            "12\n",
            "20\n",
            "30\n",
            "42\n",
            "56\n",
            "72\n",
            "90\n",
            "110\n",
            "132\n",
            "156\n",
            "182\n",
            "210\n",
            "240\n",
            "272\n",
            "306\n",
            "342\n",
            "380\n",
            "420\n",
            "462\n",
            "506\n",
            "552\n",
            "600\n"
          ]
        }
      ]
    },
    {
      "cell_type": "code",
      "source": [
        "# 14. Write a program to reverse a string using a while loop\n",
        "\n",
        "s = \"world\"\n",
        "rev = s[::-1]\n",
        "print(rev)"
      ],
      "metadata": {
        "colab": {
          "base_uri": "https://localhost:8080/"
        },
        "id": "UdRZpMZpJxTO",
        "outputId": "be32140a-3d10-45a1-e8f1-26a42aefdc60"
      },
      "execution_count": 67,
      "outputs": [
        {
          "output_type": "stream",
          "name": "stdout",
          "text": [
            "dlrow\n"
          ]
        }
      ]
    },
    {
      "cell_type": "code",
      "source": [
        "# 15. Write a Python program to calculate the factorial of a number provided by the user using a while loop\n",
        "\n",
        "n = int(input(\"5: \"))\n",
        "f = 1\n",
        "while n >= 1:\n",
        "    f *= n\n",
        "    n -= 1\n",
        "print(\"Factorial is\", f)"
      ],
      "metadata": {
        "id": "8COYxSPjKY5m"
      },
      "execution_count": null,
      "outputs": []
    },
    {
      "cell_type": "code",
      "source": [],
      "metadata": {
        "id": "rkM2pr4ANJZM"
      },
      "execution_count": null,
      "outputs": []
    }
  ]
}